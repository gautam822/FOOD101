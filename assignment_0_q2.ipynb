{
 "cells": [
  {
   "cell_type": "code",
   "execution_count": 1,
   "id": "17b47514-7308-462d-ac53-d5afbefab40e",
   "metadata": {},
   "outputs": [],
   "source": [
    "import numpy as np"
   ]
  },
  {
   "cell_type": "code",
   "execution_count": 5,
   "id": "74292783-3fe2-4cd9-acb1-a7293303cc93",
   "metadata": {},
   "outputs": [
    {
     "name": "stdout",
     "output_type": "stream",
     "text": [
      "Dot 119\n",
      "Matrix [[26, 82], [31, 101]]\n",
      "Determinants: (-28, -3)\n"
     ]
    }
   ],
   "source": [
    "arr1 = np.array([[4,6], [8,5]])\n",
    "arr2 = np.array([[2,7], [3,9]])\n",
    "def matrix_operation(a1, a2, op):\n",
    "    def dot(a, b):\n",
    "        return sum(a[i][j] * b[i][j] for i in range(a.shape[0]) for j in range(a.shape[1]))\n",
    "    def mult(a, b):\n",
    "        return([[sum(a[i][k] * b[k][j] for k in range(b.shape[0])) for j in range(b.shape[1])] for i in range(a.shape[0])])\n",
    "    def det(arr):\n",
    "      det = 0\n",
    "      if arr.shape[0] > 2:\n",
    "        for j in range(arr.shape[0]):\n",
    "            element = np.multiply(((-1)**j)*arr[0][j],det(np.delete(arr[1:], j, 1)), dtype=object)\n",
    "            det += element\n",
    "        return det\n",
    "      else:\n",
    "        return arr[0][0]*arr[1][1] - arr[0][1]*arr[1][0]\n",
    "        return determinant\n",
    "    if op == \"dot\":\n",
    "        return dot(a1, a2)\n",
    "    elif op == \"matrix\":\n",
    "        return mult(a1, a2)\n",
    "    elif op == \"determinant\":\n",
    "        det1 = det(a1)\n",
    "        det2 = det(a2)\n",
    "        return (det1, det2)\n",
    "print(\"Dot\", matrix_operation(arr1, arr2, \"dot\"))\n",
    "print(\"Matrix\", matrix_operation(arr1, arr2, \"matrix\"))\n",
    "print(\"Determinants:\", matrix_operation(arr1, arr2, \"determinant\"))\n",
    "    "
   ]
  },
  {
   "cell_type": "code",
   "execution_count": null,
   "id": "dcc3123c-03b1-4fdf-b185-64becc214973",
   "metadata": {},
   "outputs": [],
   "source": []
  }
 ],
 "metadata": {
  "kernelspec": {
   "display_name": "Python(food101)",
   "language": "python",
   "name": "food101"
  },
  "language_info": {
   "codemirror_mode": {
    "name": "ipython",
    "version": 3
   },
   "file_extension": ".py",
   "mimetype": "text/x-python",
   "name": "python",
   "nbconvert_exporter": "python",
   "pygments_lexer": "ipython3",
   "version": "3.12.7"
  }
 },
 "nbformat": 4,
 "nbformat_minor": 5
}
