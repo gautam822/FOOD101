{
 "cells": [
  {
   "cell_type": "code",
   "execution_count": 1,
   "id": "a76d8d99-3c6e-4e89-9412-c49bc37b776e",
   "metadata": {},
   "outputs": [],
   "source": [
    "import numpy as np"
   ]
  },
  {
   "cell_type": "code",
   "execution_count": 3,
   "id": "b50d411e-23ae-4656-ae23-8453dc9fef7f",
   "metadata": {},
   "outputs": [],
   "source": [
    "import pandas as pd"
   ]
  },
  {
   "cell_type": "code",
   "execution_count": 7,
   "id": "f90fb976-b248-43c9-a874-04031a6cc393",
   "metadata": {},
   "outputs": [],
   "source": [
    "file_name='IITK_Courses_Report.csv'"
   ]
  },
  {
   "cell_type": "code",
   "execution_count": 9,
   "id": "3c8f6053-518e-4572-b562-e7b01e49381f",
   "metadata": {},
   "outputs": [],
   "source": [
    "df=pd.read_csv(file_name)"
   ]
  },
  {
   "cell_type": "code",
   "execution_count": 11,
   "id": "2aca8c57-0125-4cf1-8e0e-49072254392d",
   "metadata": {},
   "outputs": [
    {
     "name": "stdout",
     "output_type": "stream",
     "text": [
      "         Student Name  Course  Marks (%)  Attendance (%)\n",
      "0         Dipon Konar  ELC111      56.72           63.08\n",
      "1      Parth Parashar  PHY113      84.59           20.96\n",
      "2         Anurag Sahu  MTH113      41.13           59.86\n",
      "3    Hemakshi Kumawat  CHM112      59.43           57.34\n",
      "4      Parth Parashar  ELC111      62.88           30.82\n",
      "..                ...     ...        ...             ...\n",
      "195     Kritika Singh  ELC112      68.57           77.98\n",
      "196   Harshit Karnani  PHY112      52.31           35.75\n",
      "197       Sneha Patra  PHY113      58.98           21.98\n",
      "198       Ashma Singh  PHY111      88.56           82.63\n",
      "199    Parth Parashar  PHY115      80.52           42.89\n",
      "\n",
      "[200 rows x 4 columns]\n"
     ]
    }
   ],
   "source": [
    "print(df)"
   ]
  },
  {
   "cell_type": "code",
   "execution_count": 13,
   "id": "5fe5d367-e7ee-4e6e-ad18-2630d1600d4b",
   "metadata": {},
   "outputs": [
    {
     "name": "stdout",
     "output_type": "stream",
     "text": [
      "Student Name      12\n",
      "Course             3\n",
      "Marks (%)         13\n",
      "Attendance (%)    17\n",
      "dtype: int64\n"
     ]
    }
   ],
   "source": [
    "print(df.isnull().sum())"
   ]
  },
  {
   "cell_type": "code",
   "execution_count": 27,
   "id": "2dbed22b-1f2b-4289-87af-1550387cd424",
   "metadata": {},
   "outputs": [],
   "source": [
    "non_numerical_columns = df.select_dtypes(include=['object']).columns\n",
    "df = df.dropna(subset=non_numerical_columns)"
   ]
  },
  {
   "cell_type": "code",
   "execution_count": null,
   "id": "c6b2768c-7c6b-4381-8600-0d1d29f927a4",
   "metadata": {},
   "outputs": [],
   "source": []
  }
 ],
 "metadata": {
  "kernelspec": {
   "display_name": "Python(food101)",
   "language": "python",
   "name": "food101"
  },
  "language_info": {
   "codemirror_mode": {
    "name": "ipython",
    "version": 3
   },
   "file_extension": ".py",
   "mimetype": "text/x-python",
   "name": "python",
   "nbconvert_exporter": "python",
   "pygments_lexer": "ipython3",
   "version": "3.12.7"
  }
 },
 "nbformat": 4,
 "nbformat_minor": 5
}
